{
 "metadata": {
  "name": "",
  "signature": "sha256:085370acb4d8b33389ed7c0310cc3e8faceb8d5bf504ae611bc4d3a4b709d3d5"
 },
 "nbformat": 3,
 "nbformat_minor": 0,
 "worksheets": [
  {
   "cells": [
    {
     "cell_type": "code",
     "collapsed": false,
     "input": [
      "import numpy as np\n",
      "import cPickle as pickle\n",
      "import pandas\n",
      "import seaborn as sns\n",
      "#sns.set_context(\"paper\")\n",
      "#sns.set_style(\"whitegrid\")\n",
      "\n",
      "sns.set_context(\"paper\", font_scale=2) # , rc={\"lines.linewidth\": 2.5})\n",
      "#sns.set_style(\"ticks\", {\"fontsize\": 20, \"ytick.major.fontsize\": 8})\n"
     ],
     "language": "python",
     "metadata": {},
     "outputs": [],
     "prompt_number": 1
    },
    {
     "cell_type": "code",
     "collapsed": false,
     "input": [
      "#pred_df = pickle.load(open(\"aggregate.predlinks_stats.pickle\", 'r')).reset_index()\n",
      "#assign_df = pickle.load(open(\"aggregate.assign_stats.pickle\", 'r')).reset_index()\n",
      "#del assign_df['assign']\n",
      "#del assign_df['true_assign']\n"
     ],
     "language": "python",
     "metadata": {},
     "outputs": [],
     "prompt_number": 2
    },
    {
     "cell_type": "code",
     "collapsed": false,
     "input": [
      "#df = pandas.merge(pred_df, assign_df, on=['chain_i', 'cv_idx', 'source_model',\n",
      "#                                          'rep_id', 'cv_type', \"init_config\", 'kernel_config'])\n",
      "#df=df[df['kernel_config'] != 'debug_2']\n",
      "\n",
      "df = pickle.load(open('aggregate.stats.pickle', 'r'))\n",
      "print df.dtypes\n",
      "del df['assign']\n",
      "del df['true_assign']\n",
      "del df['heldout_link_predprob']\n",
      "del df['heldout_link_truth']"
     ],
     "language": "python",
     "metadata": {},
     "outputs": [
      {
       "output_type": "stream",
       "stream": "stdout",
       "text": [
        "assign                    object\n",
        "chain_i                    int64\n",
        "cv_idx                     int64\n",
        "heldout_link_predprob     object\n",
        "heldout_link_truth        object\n",
        "score                    float64\n",
        "true_assign               object\n",
        "kernel_config             object\n",
        "cv_type                   object\n",
        "init_config               object\n",
        "source_model              object\n",
        "rep_id                    object\n",
        "ari                      float64\n",
        "homogeneity              float64\n",
        "completeness             float64\n",
        "type_n_true                int64\n",
        "type_n_learned             int64\n",
        "auc                      float64\n",
        "dtype: object\n"
       ]
      }
     ],
     "prompt_number": 3
    },
    {
     "cell_type": "code",
     "collapsed": false,
     "input": [
      "df = df.sort('source_model', ascending=False)\n",
      "ORDER = ['srm', 'sbmnodist', 'mm', 'lpcm']"
     ],
     "language": "python",
     "metadata": {},
     "outputs": [],
     "prompt_number": 4
    },
    {
     "cell_type": "code",
     "collapsed": false,
     "input": [
      "g = sns.FacetGrid(df, row=\"source_model\",# size=3, \n",
      "                  row_order = ORDER)\n",
      "bins = np.linspace(0, 20, 20)\n",
      "g.map(plt.hist, \"type_n_learned\", color=\"steelblue\", bins=bins, lw=0, normed=True)\n",
      "#g.map(sns.distplot, \"type_n_learned\", bins=bins, hist_normed=True)\n",
      "for ax, title in zip(g.axes.flat, ORDER):\n",
      "    #ax.set_title(title)\n",
      "    #ax.set_xlabel(\"number of types found\")\n",
      "    ax.set_xticks([0, 5, 10, 15, 20])\n",
      "    ax.grid(False)\n",
      "    ax.set_yticks([0, 1.0])\n",
      "    ax.set_xlabel(\"\")\n",
      "    if title == 'mm':\n",
      "        #ax.axvline(8, c='k', zorder=-1000, linestyle='--')\n",
      "        pass\n",
      "    else:\n",
      "        ax.axvline(4, c='k', zorder=-1000, linestyle='--')\n",
      "g.set_titles(\"\")\n",
      "pylab.savefig(\"aggstats.typenum.pdf\")"
     ],
     "language": "python",
     "metadata": {},
     "outputs": [
      {
       "metadata": {},
       "output_type": "display_data",
       "png": "[encoded data removed]",
       "text": [
        "<matplotlib.figure.Figure at 0x114d44490>"
       ]
      }
     ],
     "prompt_number": 5
    },
    {
     "cell_type": "code",
     "collapsed": false,
     "input": [
      "g = sns.FacetGrid(df, row=\"source_model\", # size=2, \n",
      "                  row_order = ORDER)\n",
      "bins = np.linspace(0, 1, 20)\n",
      "g.map(plt.hist, \"ari\", color=\"steelblue\", bins=bins, lw=0, normed=True)\n",
      "for ax, title in zip(g.axes.flat, [\"Latent Position Cluster\", \"Mixed-Membership\", \"Stochastic Block\", \"Spatial-Relational\"]):\n",
      "    #ax.set_title(title)\n",
      "    #ax.set_xlabel(\"adusted Rand index\")\n",
      "    ax.set_xticks([0.0, 1.0])\n",
      "    ax.set_yticks([0, 16])\n",
      "    ax.grid(False)\n",
      "\n",
      "    ax.set_xlabel(\"\")\n",
      "    #ax2 = ax.twinx()\n",
      "g.set_titles(\"\")\n",
      "pylab.savefig(\"aggstats.ari.pdf\")"
     ],
     "language": "python",
     "metadata": {},
     "outputs": [
      {
       "metadata": {},
       "output_type": "display_data",
       "png": "[encoded data removed]",
       "text": [
        "<matplotlib.figure.Figure at 0x118169cd0>"
       ]
      }
     ],
     "prompt_number": 6
    },
    {
     "cell_type": "code",
     "collapsed": false,
     "input": [
      "g = sns.FacetGrid(df, row=\"source_model\",  #size=2, \n",
      "                  row_order = ORDER)\n",
      "bins = np.linspace(0.7, 1, 20)\n",
      "g.map(plt.hist, \"auc\", color=\"steelblue\", bins=bins, lw=0, normed=True)\n",
      "for ax, title in zip(g.axes.flat, [\"Latent Position Cluster\", \"Mixed-Membership\", \"Stochastic Block\", \"Spatial-Relational\"]):\n",
      "    #ax.set_title(title)\n",
      "    #ax.set_xlabel(\"Area under ROC curve\")\n",
      "    ax.set_xticks([0.5, 1.0])\n",
      "    ax.set_xlim(0.5, 1.0)\n",
      "    ax.set_yticks([0, 30])\n",
      "    ax.set_xlabel(\"\")\n",
      "    ax.grid(False)\n",
      "\n",
      "    pass\n",
      "g.set_titles(\"\")\n",
      "pylab.savefig(\"aggstats.auc.pdf\")"
     ],
     "language": "python",
     "metadata": {},
     "outputs": [
      {
       "metadata": {},
       "output_type": "display_data",
       "png": "[encoded data removed]",
       "text": [
        "<matplotlib.figure.Figure at 0x11b447ad0>"
       ]
      }
     ],
     "prompt_number": 7
    },
    {
     "cell_type": "code",
     "collapsed": false,
     "input": [
      "g = sns.FacetGrid(df, row=\"source_model\", #size=2, \n",
      "                  row_order = ORDER)\n",
      "bins = np.linspace(0, 1, 20)\n",
      "g.map(plt.hist, \"completeness\", color=\"steelblue\", bins=bins, lw=0, normed=True)\n",
      "\n",
      "for ax, title in zip(g.axes.flat, [\"Latent Position Cluster\", \"Mixed-Membership\", \"Stochastic Block\", \"Spatial-Relational\"]):\n",
      "    #ax.set_title(title)\n",
      "    #ax.set_xlabel(\"Area under ROC curve\")\n",
      "    ax.set_xticks([0.0, 1.0])\n",
      "    ax.set_xlim(0.0, 1.0)\n",
      "    ax.set_yticks([0, 20])\n",
      "    ax.set_xlabel(\"\")\n",
      "    ax.grid(False)\n",
      "\n",
      "g.set_titles(\"\")\n",
      "pylab.savefig(\"aggstats.completeness.pdf\")"
     ],
     "language": "python",
     "metadata": {},
     "outputs": [
      {
       "metadata": {},
       "output_type": "display_data",
       "png": "[encoded data removed]",
       "text": [
        "<matplotlib.figure.Figure at 0x11b33fa10>"
       ]
      }
     ],
     "prompt_number": 8
    },
    {
     "cell_type": "code",
     "collapsed": false,
     "input": [
      "\n",
      "g = sns.FacetGrid(df, row=\"source_model\",  #size=2, \n",
      "                  row_order = ORDER)\n",
      "bins = np.linspace(0, 1, 20)\n",
      "g.map(plt.hist, \"homogeneity\", color=\"steelblue\", bins=bins, lw=0, normed=True)\n",
      "for ax, title in zip(g.axes.flat, [\"Latent Position Cluster\", \"Mixed-Membership\", \"Stochastic Block\", \"Spatial-Relational\"]):\n",
      "    #ax.set_title(title)\n",
      "    #ax.set_xlabel(\"Area under ROC curve\")\n",
      "    ax.set_xticks([0.0, 1.0])\n",
      "    ax.set_xlim(0.0, 1.0)\n",
      "    ax.set_yticks([0, 20])\n",
      "    ax.set_xlabel(\"\")\n",
      "    ax.grid(False)\n",
      "\n",
      "g.set_titles(\"\")\n",
      "pylab.savefig(\"aggstats.homogeneity.pdf\")\n"
     ],
     "language": "python",
     "metadata": {},
     "outputs": [
      {
       "metadata": {},
       "output_type": "display_data",
       "png": "[encoded data removed]",
       "text": [
        "<matplotlib.figure.Figure at 0x159377390>"
       ]
      }
     ],
     "prompt_number": 9
    }
   ],
   "metadata": {}
  }
 ]
}